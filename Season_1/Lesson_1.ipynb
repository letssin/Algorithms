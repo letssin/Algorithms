{
 "cells": [
  {
   "cell_type": "markdown",
   "id": "7fbd92ff",
   "metadata": {},
   "source": [
    "#### Детали   "
   ]
  },
  {
   "cell_type": "code",
   "execution_count": 17,
   "id": "2394d90e",
   "metadata": {},
   "outputs": [
    {
     "name": "stdout",
     "output_type": "stream",
     "text": [
      "14 5 3\n",
      "4\n"
     ]
    }
   ],
   "source": [
    "N, K, M = map(int, input().split())\n",
    "tot_det = 0\n",
    "while N > 0 and N//K>0:\n",
    "    det = (N//K)  * (K//M ) \n",
    "    N = N - M*det\n",
    "    tot_det += det \n",
    "print(tot_det)"
   ]
  },
  {
   "cell_type": "markdown",
   "id": "a120164a",
   "metadata": {},
   "source": [
    "#### Расстановка ноутбуков"
   ]
  },
  {
   "cell_type": "code",
   "execution_count": null,
   "id": "7b448792",
   "metadata": {},
   "outputs": [],
   "source": [
    "l1,w1,l2,w2 = map(int, input().split())\n",
    "dic = {}\n",
    "\n"
   ]
  },
  {
   "cell_type": "markdown",
   "id": "edc59a00",
   "metadata": {},
   "source": [
    "#### Скорая помощь"
   ]
  },
  {
   "cell_type": "code",
   "execution_count": null,
   "id": "2f468e72",
   "metadata": {},
   "outputs": [],
   "source": [
    "K1, M, K2, P2, N2 = map(int, input().split())\n",
    "#K1 - номер квартиры\n",
    "#M - этажей\n",
    "#K2 - номер квартиры\n",
    "#P2 - номер подъезда\n",
    "#N2 - номер этажа\n",
    "# P1 N1 ???\n",
    "# 89 20 41 1 11\n"
   ]
  },
  {
   "cell_type": "code",
   "execution_count": null,
   "id": "fcf1a3bf",
   "metadata": {},
   "outputs": [],
   "source": [
    "1 1 2 3 4\n",
    "2 5 6 7 8\n",
    "3 9 10 11 12\n",
    "4 13 14 15 16\n",
    "5 17 18 19 20\n",
    "6 21 22 23 24\n",
    "7 25 26 27 28\n",
    "8 29 30 31 32\n",
    "9 33 34 35 36\n",
    "10 37 38 39 40\n",
    "11 41 42 43 44"
   ]
  },
  {
   "cell_type": "markdown",
   "id": "b6c2c75e",
   "metadata": {},
   "source": [
    "#### Треугольник"
   ]
  },
  {
   "cell_type": "code",
   "execution_count": 2,
   "id": "88fe1b53",
   "metadata": {},
   "outputs": [
    {
     "name": "stdout",
     "output_type": "stream",
     "text": [
      "0\n",
      "4\n",
      "5\n",
      "NO\n"
     ]
    }
   ],
   "source": [
    "a = int(input())\n",
    "b = int(input())\n",
    "c = int(input())\n",
    "if a ==0 or b == 0 or c == 0:\n",
    "    print('NO')\n",
    "elif a<b+c and b<a+c and c<a+b:\n",
    "    print('YES')\n",
    "else:\n",
    "    print('NO')\n",
    "\n"
   ]
  },
  {
   "cell_type": "markdown",
   "id": "ee8a1d35",
   "metadata": {},
   "source": [
    "#### Телефонные номера"
   ]
  },
  {
   "cell_type": "code",
   "execution_count": 21,
   "id": "f67c8858",
   "metadata": {},
   "outputs": [
    {
     "name": "stdout",
     "output_type": "stream",
     "text": [
      "8(495)430-23-97\n",
      "+7-4-9-5-43-023-97\n",
      "4-3-0-2-3-9-7\n",
      "8-495-430\n",
      "YES\n",
      "YES\n",
      "NO\n"
     ]
    }
   ],
   "source": [
    "t1 = input()\n",
    "t1clear = ''\n",
    "t2 = input()\n",
    "t2clear = ''\n",
    "t3 = input()\n",
    "t3clear = ''\n",
    "t4 = input()\n",
    "t4clear = ''\n",
    "book = []\n",
    "symb = ['+','-',')','(']\n",
    "for symbol in t1:\n",
    "    if symbol in symb:\n",
    "        continue\n",
    "    else:\n",
    "        t1clear += symbol\n",
    "book.append(t1clear)\n",
    "\n",
    "for symbol in t2:\n",
    "    if symbol in symb:\n",
    "        continue\n",
    "    else:\n",
    "        t2clear += symbol\n",
    "book.append(t2clear)\n",
    "\n",
    "for symbol in t3:\n",
    "    if symbol in symb:\n",
    "        continue\n",
    "    else:\n",
    "        t3clear += symbol\n",
    "book.append(t3clear)\n",
    "\n",
    "for symbol in t4:\n",
    "    if symbol in symb:\n",
    "        continue\n",
    "    else:\n",
    "        t4clear += symbol\n",
    "book.append(t4clear)\n",
    "\n",
    "for i in range(len(book)):\n",
    "    if len(book[i])>7:\n",
    "        book[i] = book[i][1:]\n",
    "    else:\n",
    "        book[i] = '495'+ book[i]\n",
    "        \n",
    "\n",
    "for i in range(1,len(book)):\n",
    "    if book[0]==book[i]:\n",
    "        print('YES')\n",
    "    else:\n",
    "        print('NO')"
   ]
  },
  {
   "cell_type": "code",
   "execution_count": null,
   "id": "d3becce8",
   "metadata": {},
   "outputs": [],
   "source": []
  },
  {
   "cell_type": "code",
   "execution_count": 23,
   "id": "d51c5268",
   "metadata": {},
   "outputs": [
    {
     "name": "stdout",
     "output_type": "stream",
     "text": [
      "2\n",
      "2\n",
      "2\n",
      "1\n",
      "1\n",
      "NO\n"
     ]
    }
   ],
   "source": [
    "A = int(input())\n",
    "B = int(input())\n",
    "C = int(input())\n",
    "D = int(input())\n",
    "E = int(input())\n",
    "\n",
    "if D*E >= min((A*B),(B*C),(A*C)):\n",
    "    print('YES')\n",
    "else:\n",
    "    print('NO')"
   ]
  },
  {
   "cell_type": "code",
   "execution_count": null,
   "id": "26c5452d",
   "metadata": {},
   "outputs": [],
   "source": []
  }
 ],
 "metadata": {
  "kernelspec": {
   "display_name": "Python 3 (ipykernel)",
   "language": "python",
   "name": "python3"
  },
  "language_info": {
   "codemirror_mode": {
    "name": "ipython",
    "version": 3
   },
   "file_extension": ".py",
   "mimetype": "text/x-python",
   "name": "python",
   "nbconvert_exporter": "python",
   "pygments_lexer": "ipython3",
   "version": "3.8.1"
  }
 },
 "nbformat": 4,
 "nbformat_minor": 5
}
