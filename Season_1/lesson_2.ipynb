{
 "cells": [
  {
   "cell_type": "markdown",
   "id": "636a53df",
   "metadata": {},
   "source": [
    "## Линейный поиск"
   ]
  },
  {
   "cell_type": "markdown",
   "id": "6eb0b202",
   "metadata": {},
   "source": [
    "#### Возрастает ли список?"
   ]
  },
  {
   "cell_type": "code",
   "execution_count": 17,
   "id": "d979f9e2",
   "metadata": {},
   "outputs": [
    {
     "name": "stdout",
     "output_type": "stream",
     "text": [
      "-3 -2 -1\n",
      "YES\n"
     ]
    }
   ],
   "source": [
    "lst = [int(i) for i in input().split()]\n",
    "prev = lst[0]\n",
    "ans = 'YES'\n",
    "for i in range(1,len(lst)):\n",
    "    if prev >= lst[i]:\n",
    "        ans = 'NO'\n",
    "    prev = lst[i]\n",
    "print(ans)\n",
    "    "
   ]
  },
  {
   "cell_type": "markdown",
   "id": "f119043c",
   "metadata": {},
   "source": [
    "#### Определить вид последовательности"
   ]
  },
  {
   "cell_type": "code",
   "execution_count": null,
   "id": "cb3e72a0",
   "metadata": {},
   "outputs": [],
   "source": []
  }
 ],
 "metadata": {
  "kernelspec": {
   "display_name": "Python 3 (ipykernel)",
   "language": "python",
   "name": "python3"
  },
  "language_info": {
   "codemirror_mode": {
    "name": "ipython",
    "version": 3
   },
   "file_extension": ".py",
   "mimetype": "text/x-python",
   "name": "python",
   "nbconvert_exporter": "python",
   "pygments_lexer": "ipython3",
   "version": "3.8.1"
  }
 },
 "nbformat": 4,
 "nbformat_minor": 5
}
